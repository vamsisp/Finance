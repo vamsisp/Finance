{
 "cells": [
  {
   "cell_type": "code",
   "execution_count": 10,
   "id": "e5c38e9d-84ef-481d-aa8f-e5f46689fb36",
   "metadata": {},
   "outputs": [],
   "source": [
    "import pandas as pd\n",
    "import datetime as dt\n",
    "import requests\n",
    "from requests.exceptions import ConnectionError\n",
    "from bs4 import BeautifulSoup\n",
    "import os"
   ]
  },
  {
   "cell_type": "code",
   "execution_count": 12,
   "id": "6cb8d820-b4ac-4903-86d8-a4b8b738021a",
   "metadata": {},
   "outputs": [],
   "source": [
    "def web_content_div(web_content, class_path, value):\n",
    "    web_content_div = web_content.findall('div', {'class': class_path})\n",
    "    \n",
    "    try:\n",
    "        if value != None:\n",
    "            spans = web_content_div[0].findall(value)\n",
    "            text = [span.get_text() for span in spans]\n",
    "        else:\n",
    "            text = []\n",
    "        \n",
    "    except (IndexError):\n",
    "        text = []\n",
    "    \n",
    "    return text"
   ]
  },
  {
   "cell_type": "code",
   "execution_count": 20,
   "id": "0b14e2b9-415c-4a39-8203-5e4e8d349c81",
   "metadata": {},
   "outputs": [],
   "source": [
    "def real_time_price(ticker):\n",
    "    Error = 0\n",
    "    url = 'https://finance.yahoo.com/quote/' + ticker + '?p=' + ticker\n",
    "    \n",
    "    try:\n",
    "        r = requests.get(url)\n",
    "        web_content = BeautifulSoup(r.text, 'lxml')\n",
    "        \n",
    "        text = web_content_div(web_content, \"D(ib) Mend(20px)\", 'span')\n",
    "        print(text)\n",
    "        price = []\n",
    "        \n",
    "        if text != []:\n",
    "            price, change = text[0], text[1]\n",
    "            \n",
    "    except (ConnectionError):\n",
    "        price = []\n",
    "        Error = 1\n",
    "        print('Connection Error')\n",
    "        \n",
    "    return price, Error"
   ]
  },
  {
   "cell_type": "code",
   "execution_count": 17,
   "id": "d9ca606a-8e05-49f7-9488-efb50ee6b558",
   "metadata": {},
   "outputs": [],
   "source": [
    "Stocks = ['ES=F','AAPL']"
   ]
  },
  {
   "cell_type": "code",
   "execution_count": 21,
   "id": "66722a6a-8ad5-4fcb-a798-6774c0bf5405",
   "metadata": {},
   "outputs": [
    {
     "ename": "TypeError",
     "evalue": "'NoneType' object is not callable",
     "output_type": "error",
     "traceback": [
      "\u001b[0;31m---------------------------------------------------------------------------\u001b[0m",
      "\u001b[0;31mTypeError\u001b[0m                                 Traceback (most recent call last)",
      "Cell \u001b[0;32mIn [21], line 3\u001b[0m\n\u001b[1;32m      1\u001b[0m \u001b[38;5;28;01mwhile\u001b[39;00m \u001b[38;5;28;01mTrue\u001b[39;00m:\n\u001b[1;32m      2\u001b[0m     \u001b[38;5;28;01mfor\u001b[39;00m ticker \u001b[38;5;129;01min\u001b[39;00m Stocks:\n\u001b[0;32m----> 3\u001b[0m         stock_price, Error \u001b[38;5;241m=\u001b[39m \u001b[43mreal_time_price\u001b[49m\u001b[43m(\u001b[49m\u001b[43mticker\u001b[49m\u001b[43m)\u001b[49m\n",
      "Cell \u001b[0;32mIn [20], line 9\u001b[0m, in \u001b[0;36mreal_time_price\u001b[0;34m(ticker)\u001b[0m\n\u001b[1;32m      6\u001b[0m r \u001b[38;5;241m=\u001b[39m requests\u001b[38;5;241m.\u001b[39mget(url)\n\u001b[1;32m      7\u001b[0m web_content \u001b[38;5;241m=\u001b[39m BeautifulSoup(r\u001b[38;5;241m.\u001b[39mtext, \u001b[38;5;124m'\u001b[39m\u001b[38;5;124mlxml\u001b[39m\u001b[38;5;124m'\u001b[39m)\n\u001b[0;32m----> 9\u001b[0m text \u001b[38;5;241m=\u001b[39m \u001b[43mweb_content_div\u001b[49m\u001b[43m(\u001b[49m\u001b[43mweb_content\u001b[49m\u001b[43m,\u001b[49m\u001b[43m \u001b[49m\u001b[38;5;124;43m\"\u001b[39;49m\u001b[38;5;124;43mD(ib) Mend(20px)\u001b[39;49m\u001b[38;5;124;43m\"\u001b[39;49m\u001b[43m,\u001b[49m\u001b[43m \u001b[49m\u001b[38;5;124;43m'\u001b[39;49m\u001b[38;5;124;43mspan\u001b[39;49m\u001b[38;5;124;43m'\u001b[39;49m\u001b[43m)\u001b[49m\n\u001b[1;32m     10\u001b[0m \u001b[38;5;28mprint\u001b[39m(text)\n\u001b[1;32m     11\u001b[0m price \u001b[38;5;241m=\u001b[39m []\n",
      "Cell \u001b[0;32mIn [12], line 2\u001b[0m, in \u001b[0;36mweb_content_div\u001b[0;34m(web_content, class_path, value)\u001b[0m\n\u001b[1;32m      1\u001b[0m \u001b[38;5;28;01mdef\u001b[39;00m \u001b[38;5;21mweb_content_div\u001b[39m(web_content, class_path, value):\n\u001b[0;32m----> 2\u001b[0m     web_content_div \u001b[38;5;241m=\u001b[39m \u001b[43mweb_content\u001b[49m\u001b[38;5;241;43m.\u001b[39;49m\u001b[43mfindall\u001b[49m\u001b[43m(\u001b[49m\u001b[38;5;124;43m'\u001b[39;49m\u001b[38;5;124;43mdiv\u001b[39;49m\u001b[38;5;124;43m'\u001b[39;49m\u001b[43m,\u001b[49m\u001b[43m \u001b[49m\u001b[43m{\u001b[49m\u001b[38;5;124;43m'\u001b[39;49m\u001b[38;5;124;43mclass\u001b[39;49m\u001b[38;5;124;43m'\u001b[39;49m\u001b[43m:\u001b[49m\u001b[43m \u001b[49m\u001b[43mclass_path\u001b[49m\u001b[43m}\u001b[49m\u001b[43m)\u001b[49m\n\u001b[1;32m      4\u001b[0m     \u001b[38;5;28;01mtry\u001b[39;00m:\n\u001b[1;32m      5\u001b[0m         \u001b[38;5;28;01mif\u001b[39;00m value \u001b[38;5;241m!=\u001b[39m \u001b[38;5;28;01mNone\u001b[39;00m:\n",
      "\u001b[0;31mTypeError\u001b[0m: 'NoneType' object is not callable"
     ]
    }
   ],
   "source": [
    "while True:\n",
    "    for ticker in Stocks:\n",
    "        stock_price, Error = real_time_price(ticker)"
   ]
  },
  {
   "cell_type": "code",
   "execution_count": 78,
   "id": "ccf6eca5-e3db-451c-823b-6b76dc04059f",
   "metadata": {},
   "outputs": [],
   "source": [
    "def get_quote(tickers: list[str]) -> dict[str, float]:\n",
    "    prices: dict[str, float] = {}\n",
    "    \n",
    "    for ticker in tickers:\n",
    "        url = 'https://finance.yahoo.com/quote/' + ticker + '?p=' + ticker\n",
    "        page = requests.get(url)\n",
    "        soup = BeautifulSoup(page.content, 'html.parser')\n",
    "        quote_header = soup.find(id='quote-header-info')\n",
    "        smth = quote_header.find_all(class_='My(6px)')\n",
    "        text = smth[0].get_text()\n",
    "        \n",
    "        if '-' in text:\n",
    "            price = float(text.split()[0].split('-')[0])\n",
    "        else:\n",
    "            price = float(text.split()[0].split('+')[0])\n",
    "        \n",
    "        prices[ticker] = price\n",
    "        \n",
    "    return prices"
   ]
  },
  {
   "cell_type": "code",
   "execution_count": 80,
   "id": "50103415-1880-44e7-a7c8-322bcf554892",
   "metadata": {},
   "outputs": [
    {
     "data": {
      "text/plain": [
       "{'TMC': 0.9595, 'AAPL': 145.43}"
      ]
     },
     "execution_count": 80,
     "metadata": {},
     "output_type": "execute_result"
    }
   ],
   "source": [
    "get_quote(['TMC', 'AAPL'])"
   ]
  },
  {
   "cell_type": "code",
   "execution_count": null,
   "id": "2f88fc47-88d7-423a-bd0f-0a53a48130e0",
   "metadata": {},
   "outputs": [],
   "source": [
    "from IPython.display import clear_output\n",
    "import time\n",
    "for i in range(3):\n",
    "    time.sleep(20)\n",
    "    get_quote(['AAPL'])"
   ]
  }
 ],
 "metadata": {
  "kernelspec": {
   "display_name": "Python 3 (ipykernel)",
   "language": "python",
   "name": "python3"
  },
  "language_info": {
   "codemirror_mode": {
    "name": "ipython",
    "version": 3
   },
   "file_extension": ".py",
   "mimetype": "text/x-python",
   "name": "python",
   "nbconvert_exporter": "python",
   "pygments_lexer": "ipython3",
   "version": "3.10.6"
  }
 },
 "nbformat": 4,
 "nbformat_minor": 5
}
