{
 "cells": [
  {
   "cell_type": "markdown",
   "id": "b3798eec-fc30-45f1-9e71-9c758f4d1472",
   "metadata": {},
   "source": [
    "# Live Price"
   ]
  },
  {
   "cell_type": "code",
   "execution_count": 2,
   "id": "c90cb820-914f-4303-8587-1ac7cff632c4",
   "metadata": {},
   "outputs": [],
   "source": [
    "from bs4 import BeautifulSoup\n",
    "import requests"
   ]
  },
  {
   "cell_type": "code",
   "execution_count": 3,
   "id": "eb112f31-e98f-42c4-b110-14464bc4944f",
   "metadata": {},
   "outputs": [],
   "source": [
    "import yfinance as yf\n",
    "import numpy as np\n",
    "import pandas as pd"
   ]
  },
  {
   "cell_type": "code",
   "execution_count": 4,
   "id": "348686d6-7213-49b7-8d3b-7f5152c7b072",
   "metadata": {},
   "outputs": [],
   "source": [
    "def get_quote(tickers: list[str]) -> dict[str, float]:\n",
    "    prices: dict[str, float] = {}\n",
    "    \n",
    "    for ticker in tickers:\n",
    "        url = 'https://finance.yahoo.com/quote/' + ticker + '?p=' + ticker\n",
    "        page = requests.get(url)\n",
    "        soup = BeautifulSoup(page.content, 'html.parser')\n",
    "        quote_header = soup.find(id='quote-header-info')\n",
    "        smth = quote_header.find_all(class_='My(6px)')\n",
    "        text = smth[0].get_text()\n",
    "        price = float( text.split()[0].split('-')[0].split('+')[0]) \n",
    "        prices[ticker] = price\n",
    "        \n",
    "    return prices"
   ]
  },
  {
   "cell_type": "code",
   "execution_count": 5,
   "id": "ce8df6b6-9296-4035-affe-7574ab7c9b6a",
   "metadata": {},
   "outputs": [
    {
     "data": {
      "text/plain": [
       "{'GNS': 1.158}"
      ]
     },
     "execution_count": 5,
     "metadata": {},
     "output_type": "execute_result"
    }
   ],
   "source": [
    "get_quote(['GNS'])"
   ]
  },
  {
   "cell_type": "code",
   "execution_count": 98,
   "id": "e1217e93-402f-4703-9d45-6d0c18614083",
   "metadata": {},
   "outputs": [],
   "source": [
    "def also_get_quote(ticker):\n",
    "    price = yf.download(tickers=ticker , period='1m', interval='1m')\n",
    "    return price.iloc[0]['Close']"
   ]
  },
  {
   "cell_type": "code",
   "execution_count": 99,
   "id": "a1dd2e5d-d39b-4762-bdcb-3b55c6a094c3",
   "metadata": {},
   "outputs": [
    {
     "name": "stdout",
     "output_type": "stream",
     "text": [
      "[*********************100%***********************]  1 of 1 completed\n"
     ]
    },
    {
     "data": {
      "text/plain": [
       "154.5"
      ]
     },
     "execution_count": 99,
     "metadata": {},
     "output_type": "execute_result"
    }
   ],
   "source": [
    "also_get_quote('AAPL')"
   ]
  },
  {
   "cell_type": "markdown",
   "id": "c8d736f6-2e2f-41c3-9938-0b261e1b1910",
   "metadata": {},
   "source": [
    "# Live Graph"
   ]
  },
  {
   "cell_type": "code",
   "execution_count": 3,
   "id": "6614e052-e4da-403f-a370-f045a4a74319",
   "metadata": {},
   "outputs": [],
   "source": [
    "import matplotlib.pyplot as plt\n",
    "import matplotlib.animation as animation\n",
    "from matplotlib import style"
   ]
  },
  {
   "cell_type": "code",
   "execution_count": 4,
   "id": "5fa1c931-522a-4f65-bdc0-a0eecc3a3d78",
   "metadata": {},
   "outputs": [
    {
     "data": {
      "image/png": "[encoded data removed]",
      "text/plain": [
       "<Figure size 640x480 with 1 Axes>"
      ]
     },
     "metadata": {},
     "output_type": "display_data"
    }
   ],
   "source": [
    "style.use('fivethirtyeight')\n",
    "\n",
    "fig = plt.figure()\n",
    "chart = fig.add_subplot(1,1,1)"
   ]
  },
  {
   "cell_type": "code",
   "execution_count": 5,
   "id": "eda6d617-cd0b-47f6-94eb-9d2d73df953d",
   "metadata": {},
   "outputs": [],
   "source": [
    "def animate(ticker):\n",
    "    price = get_quote([ticker])[ticker]\n",
    "    while True:\n",
    "        x = 1.0\n",
    "        chart.plot(x, price)\n",
    "        x += 1.0"
   ]
  },
  {
   "cell_type": "code",
   "execution_count": 6,
   "id": "3c01fcb7-f462-4ecc-8b3c-0769a930d039",
   "metadata": {},
   "outputs": [
    {
     "ename": "NameError",
     "evalue": "name 'get_quote' is not defined",
     "output_type": "error",
     "traceback": [
      "\u001b[0;31m---------------------------------------------------------------------------\u001b[0m",
      "\u001b[0;31mNameError\u001b[0m                                 Traceback (most recent call last)",
      "Cell \u001b[0;32mIn [6], line 1\u001b[0m\n\u001b[0;32m----> 1\u001b[0m ani \u001b[38;5;241m=\u001b[39m animation\u001b[38;5;241m.\u001b[39mFuncAnimation(fig, \u001b[43manimate\u001b[49m\u001b[43m(\u001b[49m\u001b[38;5;124;43m'\u001b[39;49m\u001b[38;5;124;43mAAPL\u001b[39;49m\u001b[38;5;124;43m'\u001b[39;49m\u001b[43m)\u001b[49m, interval\u001b[38;5;241m=\u001b[39m\u001b[38;5;241m1000\u001b[39m)\n\u001b[1;32m      2\u001b[0m plt\u001b[38;5;241m.\u001b[39mshow()\n",
      "Cell \u001b[0;32mIn [5], line 2\u001b[0m, in \u001b[0;36manimate\u001b[0;34m(ticker)\u001b[0m\n\u001b[1;32m      1\u001b[0m \u001b[38;5;28;01mdef\u001b[39;00m \u001b[38;5;21manimate\u001b[39m(ticker):\n\u001b[0;32m----> 2\u001b[0m     price \u001b[38;5;241m=\u001b[39m \u001b[43mget_quote\u001b[49m([ticker])[ticker]\n\u001b[1;32m      3\u001b[0m     \u001b[38;5;28;01mwhile\u001b[39;00m \u001b[38;5;28;01mTrue\u001b[39;00m:\n\u001b[1;32m      4\u001b[0m         x \u001b[38;5;241m=\u001b[39m \u001b[38;5;241m1.0\u001b[39m\n",
      "\u001b[0;31mNameError\u001b[0m: name 'get_quote' is not defined"
     ]
    }
   ],
   "source": [
    "ani = animation.FuncAnimation(fig, animate('AAPL'), interval=1000)\n",
    "plt.show()"
   ]
  },
  {
   "cell_type": "code",
   "execution_count": 1,
   "id": "3762dd93-67b8-41ff-b606-06afb7267b7e",
   "metadata": {},
   "outputs": [
    {
     "data": {
      "text/plain": [
       "<Figure size 640x480 with 0 Axes>"
      ]
     },
     "metadata": {},
     "output_type": "display_data"
    }
   ],
   "source": [
    "import random\n",
    "from itertools import count\n",
    "import pandas as pd\n",
    "import matplotlib.pyplot as plt\n",
    "from matplotlib.animation import FuncAnimation\n",
    "\n",
    "plt.style.use('fivethirtyeight')\n",
    "\n",
    "x_vals = []\n",
    "y_vals = []\n",
    "\n",
    "index = count()\n",
    "\n",
    "\n",
    "def animate(i):\n",
    "    data = pd.read_csv('data.csv')\n",
    "    x = data['x_value']\n",
    "    y1 = data['total_1']\n",
    "    y2 = data['total_2']\n",
    "\n",
    "    plt.cla()\n",
    "\n",
    "    plt.plot(x, y1, label='Channel 1')\n",
    "    plt.plot(x, y2, label='Channel 2')\n",
    "\n",
    "    plt.legend(loc='upper left')\n",
    "    plt.tight_layout()\n",
    "\n",
    "\n",
    "ani = FuncAnimation(plt.gcf(), animate, interval=1000)\n",
    "\n",
    "plt.tight_layout()\n",
    "plt.show()"
   ]
  },
  {
   "cell_type": "code",
   "execution_count": null,
   "id": "15ac86e9-26e7-42c0-bbcc-ea2c813099e0",
   "metadata": {},
   "outputs": [],
   "source": []
  }
 ],
 "metadata": {
  "kernelspec": {
   "display_name": "Python 3 (ipykernel)",
   "language": "python",
   "name": "python3"
  },
  "language_info": {
   "codemirror_mode": {
    "name": "ipython",
    "version": 3
   },
   "file_extension": ".py",
   "mimetype": "text/x-python",
   "name": "python",
   "nbconvert_exporter": "python",
   "pygments_lexer": "ipython3",
   "version": "3.10.6"
  }
 },
 "nbformat": 4,
 "nbformat_minor": 5
}
