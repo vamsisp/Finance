{
 "cells": [
  {
   "cell_type": "code",
   "execution_count": 4,
   "id": "c90cb820-914f-4303-8587-1ac7cff632c4",
   "metadata": {},
   "outputs": [],
   "source": [
    "from bs4 import BeautifulSoup\n",
    "import requests"
   ]
  },
  {
   "cell_type": "code",
   "execution_count": 29,
   "id": "348686d6-7213-49b7-8d3b-7f5152c7b072",
   "metadata": {},
   "outputs": [],
   "source": [
    "def get_quote(tickers: list[str]) -> dict[str, float]:\n",
    "    prices: dict[str, float] = {}\n",
    "    \n",
    "    for ticker in tickers:\n",
    "        url = 'https://finance.yahoo.com/quote/' + ticker + '?p=' + ticker\n",
    "        page = requests.get(url)\n",
    "        soup = BeautifulSoup(page.content, 'html.parser')\n",
    "        quote_header = soup.find(id='quote-header-info')\n",
    "        smth = quote_header.find_all(class_='My(6px)')\n",
    "        text = smth[0].get_text()\n",
    "        price = float( text.split()[0].split('-')[0].split('+')[0]) \n",
    "        prices[ticker] = price\n",
    "        \n",
    "    return prices"
   ]
  },
  {
   "cell_type": "code",
   "execution_count": 30,
   "id": "ce8df6b6-9296-4035-affe-7574ab7c9b6a",
   "metadata": {},
   "outputs": [
    {
     "data": {
      "text/plain": [
       "{'TMC': 1.25}"
      ]
     },
     "execution_count": 30,
     "metadata": {},
     "output_type": "execute_result"
    }
   ],
   "source": [
    "get_quote(['TMC'])"
   ]
  },
  {
   "cell_type": "code",
   "execution_count": null,
   "id": "6614e052-e4da-403f-a370-f045a4a74319",
   "metadata": {},
   "outputs": [],
   "source": []
  }
 ],
 "metadata": {
  "kernelspec": {
   "display_name": "Python 3 (ipykernel)",
   "language": "python",
   "name": "python3"
  },
  "language_info": {
   "codemirror_mode": {
    "name": "ipython",
    "version": 3
   },
   "file_extension": ".py",
   "mimetype": "text/x-python",
   "name": "python",
   "nbconvert_exporter": "python",
   "pygments_lexer": "ipython3",
   "version": "3.10.6"
  }
 },
 "nbformat": 4,
 "nbformat_minor": 5
}
